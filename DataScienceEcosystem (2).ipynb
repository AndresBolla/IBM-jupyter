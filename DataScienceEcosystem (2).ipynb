{
  "metadata": {
    "kernelspec": {
      "name": "python",
      "display_name": "Python (Pyodide)",
      "language": "python"
    },
    "language_info": {
      "codemirror_mode": {
        "name": "python",
        "version": 3
      },
      "file_extension": ".py",
      "mimetype": "text/x-python",
      "name": "python",
      "nbconvert_exporter": "python",
      "pygments_lexer": "ipython3",
      "version": "3.8"
    }
  },
  "nbformat_minor": 4,
  "nbformat": 4,
  "cells": [
    {
      "cell_type": "markdown",
      "source": "# Exercise 1: Create a Jupyter Notebook",
      "metadata": {}
    },
    {
      "cell_type": "markdown",
      "source": "##### Create a new Jupyter notebook called DataScienceEcosystem.ipynb.",
      "metadata": {}
    },
    {
      "cell_type": "markdown",
      "source": "# Exercise 2",
      "metadata": {}
    },
    {
      "cell_type": "markdown",
      "source": "##### Create markdown cell with title of the notebook.",
      "metadata": {}
    },
    {
      "cell_type": "markdown",
      "source": "### Data Science Tools and Ecosystem",
      "metadata": {
        "jp-MarkdownHeadingCollapsed": true
      }
    },
    {
      "cell_type": "markdown",
      "source": "# Exercise 3",
      "metadata": {
        "jp-MarkdownHeadingCollapsed": true
      }
    },
    {
      "cell_type": "markdown",
      "source": "##### Create a markdown cell for an introduction.",
      "metadata": {}
    },
    {
      "cell_type": "markdown",
      "source": "### In this notebook, Data Science Tools and Ecosystem are summarized.",
      "metadata": {}
    },
    {
      "cell_type": "markdown",
      "source": "# Exercise 4",
      "metadata": {
        "jp-MarkdownHeadingCollapsed": true
      }
    },
    {
      "cell_type": "markdown",
      "source": "##### Create a markdown cell to list data science languages.",
      "metadata": {}
    },
    {
      "cell_type": "markdown",
      "source": "### Some of the popular languages that Data Scientists use are:",
      "metadata": {
        "jp-MarkdownHeadingCollapsed": true
      }
    },
    {
      "cell_type": "markdown",
      "source": "### Orden list \n1. **Python**: Widely used for data analysis, machine learning, and general-purpose programming. Python has a rich ecosystem of libraries like NumPy, Pandas, and Scikit-learn that make it a powerful tool for data science.\n   \n2. **R**: Specifically designed for statistical computing and graphics. R is highly extensible and provides a wide variety of statistical and graphical techniques, making it a favorite among statisticians and data miners.\n\n3. **SQL**: Essential for managing and querying relational databases. SQL is used to extract, manipulate, and analyze data stored in database management systems.\n   \n4. **Julia**: Known for its high performance, Julia is a relatively new language that is gaining popularity in data science for its speed and efficiency in handling numerical and computational tasks.\n \n5. **Java**: Often used for building large-scale data processing systems. Java's robustness, performance, and scalability make it a good choice for big data technologies like Apache Hadoop and Apache Spark.",
      "metadata": {
        "jp-MarkdownHeadingCollapsed": true
      }
    },
    {
      "cell_type": "markdown",
      "source": "# Exercise 5 ",
      "metadata": {
        "jp-MarkdownHeadingCollapsed": true
      }
    },
    {
      "cell_type": "markdown",
      "source": "##### Create a markdown cell to list data science libraries",
      "metadata": {}
    },
    {
      "cell_type": "markdown",
      "source": "### Some of the commonly used libraries used by Data Scientists include:\n",
      "metadata": {}
    },
    {
      "cell_type": "markdown",
      "source": "### Orden list\n\n\n1. **NumPy**: Fundamental library for numerical computations in Python. It provides support for arrays and a collection of mathematical functions to operate on these arrays.\n2. **Pandas**: Powerful library for data manipulation and analysis. It offers data structures like DataFrames which are perfect for handling structured data.\n3. **Matplotlib**: Comprehensive library for creating static, animated, and interactive visualizations in Python.\n4. **Scikit-learn**: Library for machine learning that provides simple and efficient tools for data mining and data analysis.\n5. **Seaborn**: Statistical data visualization library based on Matplotlib. It provides a high-level interface for drawing attractive and informative statistical graphics.\n",
      "metadata": {}
    },
    {
      "cell_type": "markdown",
      "source": "# Exercise 6",
      "metadata": {
        "jp-MarkdownHeadingCollapsed": true
      }
    },
    {
      "cell_type": "markdown",
      "source": "##### Create a markdown cell with a table of Data Science tools",
      "metadata": {}
    },
    {
      "cell_type": "markdown",
      "source": "## Data Science Tools",
      "metadata": {}
    },
    {
      "cell_type": "markdown",
      "source": "| Tool          | Description                                                                           |\n|---------------|---------------------------------------------------------------------------------------|\n| Jupyter       | An open-source web application that allows you to create and share documents that contain live code, equations, visualizations, and narrative text. |\n| RStudio       | An integrated development environment (IDE) for R that includes a console, syntax-highlighting editor, and tools for plotting, history, debugging, and workspace management. |\n| VS Code       | A lightweight but powerful source code editor which runs on your desktop and is available for Windows, macOS, and Linux. It has built-in support for JavaScript, TypeScript, and Node.js and has a rich ecosystem of extensions for other languages and tools. |",
      "metadata": {}
    },
    {
      "cell_type": "markdown",
      "source": "# Exercise 7",
      "metadata": {
        "jp-MarkdownHeadingCollapsed": true
      }
    },
    {
      "cell_type": "markdown",
      "source": "##### Create a markdown cell introducing arithmetic expression examples",
      "metadata": {}
    },
    {
      "cell_type": "markdown",
      "source": "### Below are a few examples of evaluating arithmetic expressions in Python.\n",
      "metadata": {}
    },
    {
      "cell_type": "markdown",
      "source": "### Below are a few examples of evaluating arithmetic expressions in Python.\n\n- Suma: `2 + 3` evalúa a 5\n- Resta: `5 - 2` evalúa a 3\n- Multiplicación: `4 * 6` evalúa a 24\n- División: `10 / 2` evalúa a 5\n- Potencia: `2 * 3` evalúa a 6\n",
      "metadata": {}
    },
    {
      "cell_type": "markdown",
      "source": "# Exercise 8",
      "metadata": {
        "jp-MarkdownHeadingCollapsed": true
      }
    },
    {
      "cell_type": "markdown",
      "source": "##### Create a code cell to multiply and add number",
      "metadata": {}
    },
    {
      "cell_type": "markdown",
      "source": "### This a simple arithmetic expression to mutiply then add integers",
      "metadata": {}
    },
    {
      "cell_type": "code",
      "source": "##### Definir los números a utiliza\na = 3\n\nb = 4\n\nc = 5\n\n##### Realizar multiplicacion\nmultiplicacion = a*b\n\n##### Realizar suma\nSuma = multiplicacion + c\n\n##### Imprimir resultados \nprint(f\"multiplicar ({a}*{b}) = {multiplicacion}\") \nprint(f\"suma ({multiplicacion} +{c}) = {suma}\") ",
      "metadata": {
        "trusted": true
      },
      "outputs": [
        {
          "name": "stdout",
          "text": "multiplicar (3*4) = 12\nsuma (12 +5) = 17\n",
          "output_type": "stream"
        }
      ],
      "execution_count": 18
    },
    {
      "cell_type": "markdown",
      "source": "##### Breve explicacion\nEl código proporcionado es un ejemplo de cómo realizar una multiplicación y una suma en Python dentro de una celda de código en Jupyter Notebook. Aquí está el resumen:\n\nDefinir variables: Se definen tres variables a, b y c, que representan los números que se multiplicarán y sumarán.\n\nRealizar la multiplicación: Se calcula la multiplicación de a y b utilizando el operador * y se guarda el resultado en la variable multiplicacion.\n\nRealizar la suma: Se suma el resultado de la multiplicación (multiplicacion) y el valor de c, y se guarda el resultado en la variable suma.\n\nImprimir resultados: Se utilizan declaraciones print() para mostrar los resultados de la multiplicación y la suma en un formato legible.\n\nEn resumen, este código ejecuta ambas operaciones matemáticas (multiplicación y suma) y muestra los resultados utilizando la función print().",
      "metadata": {}
    },
    {
      "cell_type": "markdown",
      "source": "# Exercise 9",
      "metadata": {
        "jp-MarkdownHeadingCollapsed": true
      }
    },
    {
      "cell_type": "markdown",
      "source": "#####  Insert a markdown cell to list Objectives",
      "metadata": {}
    },
    {
      "cell_type": "code",
      "source": "### Definir el número de minutos\nminutos = 200\n\n### Convertir minutos a horas\nhoras = minutos / 60\n\n### Imprimir el resultado\nprint(f\"{minutos} minutos equivalen a {horas} horas\")\n\n",
      "metadata": {
        "trusted": true
      },
      "outputs": [
        {
          "name": "stdout",
          "text": "200 minutos equivalen a 3.3333333333333335 horas\n",
          "output_type": "stream"
        }
      ],
      "execution_count": 5
    },
    {
      "cell_type": "code",
      "source": "### Redondear horas a dos decimales\nhoras_redondeadas = round(horas, 2)\n\n### Imprimir el resultado redondeado\nprint(f\"{minutos} minutos equivalen a {horas_redondeadas} horas\")\n",
      "metadata": {
        "trusted": true
      },
      "outputs": [
        {
          "name": "stdout",
          "text": "200 minutos equivalen a 3.33 horas\n",
          "output_type": "stream"
        }
      ],
      "execution_count": 6
    },
    {
      "cell_type": "code",
      "source": "### Convertir horas a un entero\nhoras_entero = int(horas)\n\n### Imprimir el resultado como un número entero de horas\nprint(f\"{minutos} minutos equivalen a {horas_entero} horas\")\n",
      "metadata": {
        "trusted": true
      },
      "outputs": [
        {
          "name": "stdout",
          "text": "200 minutos equivalen a 3 horas\n",
          "output_type": "stream"
        }
      ],
      "execution_count": 7
    },
    {
      "cell_type": "markdown",
      "source": "# Exercise 10",
      "metadata": {
        "jp-MarkdownHeadingCollapsed": true
      }
    },
    {
      "cell_type": "markdown",
      "source": "##### Insert a markdown cell to list Objectives",
      "metadata": {}
    },
    {
      "cell_type": "markdown",
      "source": "###\n**Objectives:**\n\n- Listar los lenguajes populares para Ciencia de Datos.\n- Enumerar las bibliotecas comunes utilizadas en Ciencia de Datos.\n- Explorar las herramientas de desarrollo de código abierto para Ciencia de Datos.\n- Mostrar cómo crear una tabla de multiplicación en Markdown.\n- Ejecutar cálculos de multiplicación y suma en una celda de código.\n",
      "metadata": {}
    },
    {
      "cell_type": "markdown",
      "source": "# Exercise 11",
      "metadata": {}
    },
    {
      "cell_type": "markdown",
      "source": "##### Create a markdown cell to indicate the Author's name",
      "metadata": {}
    },
    {
      "cell_type": "markdown",
      "source": "## Author\n\nAndres\n",
      "metadata": {}
    },
    {
      "cell_type": "code",
      "source": "",
      "metadata": {
        "trusted": true
      },
      "outputs": [],
      "execution_count": null
    }
  ]
}